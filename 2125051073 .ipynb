{
  "nbformat": 4,
  "nbformat_minor": 0,
  "metadata": {
    "colab": {
      "provenance": []
    },
    "kernelspec": {
      "name": "python3",
      "display_name": "Python 3"
    },
    "language_info": {
      "name": "python"
    }
  },
  "cells": [
    {
      "cell_type": "code",
      "execution_count": null,
      "metadata": {
        "colab": {
          "base_uri": "https://localhost:8080/"
        },
        "id": "RipEaCHBxSlZ",
        "outputId": "58212e1b-8efd-4449-d759-af2a300fd251"
      },
      "outputs": [
        {
          "output_type": "stream",
          "name": "stdout",
          "text": [
            "Mounted at /content/drive\n"
          ]
        }
      ],
      "source": [
        "from google.colab import drive\n",
        "drive.mount('/content/drive')\n"
      ]
    },
    {
      "cell_type": "code",
      "source": [
        "import os\n",
        "zip_path = \"/content/drive/My Drive/Dataset.zip\"  # Replace with your ZIP file path\n",
        "extract_path = \"/content/Dataset\"\n",
        "os.makedirs(extract_path, exist_ok=True)  # Ensure target folder exists\n",
        "\n",
        "!unzip -q \"$zip_path\" -d \"$extract_path\"\n",
        "print(\"Files extracted to:\", extract_path)\n"
      ],
      "metadata": {
        "colab": {
          "base_uri": "https://localhost:8080/"
        },
        "id": "5-wfPfz8xoJA",
        "outputId": "c96469fb-6620-4422-da32-be3ed911d9d7"
      },
      "execution_count": null,
      "outputs": [
        {
          "output_type": "stream",
          "name": "stdout",
          "text": [
            "Files extracted to: /content/Dataset\n"
          ]
        }
      ]
    },
    {
      "cell_type": "code",
      "source": [
        "for root, dirs, files in os.walk(extract_path):\n",
        "    print(root, \"contains\", len(files), \"files\")\n"
      ],
      "metadata": {
        "colab": {
          "base_uri": "https://localhost:8080/"
        },
        "id": "HmdViNCAxve_",
        "outputId": "32def76c-7ba7-4d25-aea6-356ec7361865"
      },
      "execution_count": null,
      "outputs": [
        {
          "output_type": "stream",
          "name": "stdout",
          "text": [
            "/content/Dataset contains 0 files\n",
            "/content/Dataset/Dataset contains 0 files\n",
            "/content/Dataset/Dataset/Bus contains 100 files\n",
            "/content/Dataset/Dataset/Car contains 100 files\n",
            "/content/Dataset/Dataset/Truck contains 100 files\n",
            "/content/Dataset/Dataset/Motorcycle contains 100 files\n"
          ]
        }
      ]
    },
    {
      "cell_type": "code",
      "source": [
        "DATASET_PATH = \"/content/Dataset\"\n"
      ],
      "metadata": {
        "id": "LXq7OvzUxySX"
      },
      "execution_count": null,
      "outputs": []
    },
    {
      "cell_type": "code",
      "source": [
        "import os\n",
        "print(\"Classes available:\", os.listdir(DATASET_PATH))\n",
        "for class_name in os.listdir(DATASET_PATH):\n",
        "    print(f\"{class_name}: {len(os.listdir(os.path.join(DATASET_PATH, class_name)))} images\")\n"
      ],
      "metadata": {
        "colab": {
          "base_uri": "https://localhost:8080/"
        },
        "id": "ROwv9JiLx2zv",
        "outputId": "9e7e983a-752d-46b5-b094-1d0d6129fcf6"
      },
      "execution_count": null,
      "outputs": [
        {
          "output_type": "stream",
          "name": "stdout",
          "text": [
            "Classes available: ['Dataset']\n",
            "Dataset: 4 images\n"
          ]
        }
      ]
    },
    {
      "cell_type": "code",
      "source": [
        "import os\n",
        "print(\"Folders in root directory:\", os.listdir(\"/content\"))\n"
      ],
      "metadata": {
        "colab": {
          "base_uri": "https://localhost:8080/"
        },
        "id": "ZiIU3jXfx20m",
        "outputId": "ac520455-1a96-459b-b76e-2a31472f0f59"
      },
      "execution_count": null,
      "outputs": [
        {
          "output_type": "stream",
          "name": "stdout",
          "text": [
            "Folders in root directory: ['.config', 'Dataset', 'drive', 'sample_data']\n"
          ]
        }
      ]
    },
    {
      "cell_type": "code",
      "source": [
        "dataset_path = \"/content/Dataset\"  # Update this path if needed\n",
        "print(\"Classes in dataset:\", os.listdir(dataset_path))\n"
      ],
      "metadata": {
        "colab": {
          "base_uri": "https://localhost:8080/"
        },
        "id": "hc3Ay8NJyyMo",
        "outputId": "a12d33e1-40dd-4e50-db29-76582010b7b0"
      },
      "execution_count": null,
      "outputs": [
        {
          "output_type": "stream",
          "name": "stdout",
          "text": [
            "Classes in dataset: ['Dataset']\n"
          ]
        }
      ]
    },
    {
      "cell_type": "code",
      "source": [
        "DATASET_PATH = \"/content/drive/My Drive/Dataset\"  # Ensure this path matches the correct location of the Dataset\n"
      ],
      "metadata": {
        "id": "Fr-FNIJ9zE-_"
      },
      "execution_count": null,
      "outputs": []
    },
    {
      "cell_type": "code",
      "source": [
        "!unzip \"/content/drive/MyDrive/Dataset.zip\" -d \"/content/drive/MyDrive/\"\n"
      ],
      "metadata": {
        "colab": {
          "base_uri": "https://localhost:8080/"
        },
        "id": "tRcksTbW0Mtw",
        "outputId": "0ad51301-574a-4312-8536-19e896abacf4"
      },
      "execution_count": null,
      "outputs": [
        {
          "output_type": "stream",
          "name": "stdout",
          "text": [
            "Archive:  /content/drive/MyDrive/Dataset.zip\n",
            "   creating: /content/drive/MyDrive/Dataset/\n",
            "   creating: /content/drive/MyDrive/Dataset/Bus/\n",
            "  inflating: /content/drive/MyDrive/Dataset/Bus/Image_1.jpg  \n",
            "  inflating: /content/drive/MyDrive/Dataset/Bus/Image_10.jpg  \n",
            "  inflating: /content/drive/MyDrive/Dataset/Bus/Image_100.jpg  \n",
            "  inflating: /content/drive/MyDrive/Dataset/Bus/Image_11.jpg  \n",
            "  inflating: /content/drive/MyDrive/Dataset/Bus/Image_12.jpg  \n",
            "  inflating: /content/drive/MyDrive/Dataset/Bus/Image_13.jpg  \n",
            "  inflating: /content/drive/MyDrive/Dataset/Bus/Image_14.jpg  \n",
            "  inflating: /content/drive/MyDrive/Dataset/Bus/Image_15.jpg  \n",
            "  inflating: /content/drive/MyDrive/Dataset/Bus/Image_16.jpg  \n",
            "  inflating: /content/drive/MyDrive/Dataset/Bus/Image_17.jpg  \n",
            "  inflating: /content/drive/MyDrive/Dataset/Bus/Image_18.jpg  \n",
            "  inflating: /content/drive/MyDrive/Dataset/Bus/Image_19.jpg  \n",
            "  inflating: /content/drive/MyDrive/Dataset/Bus/Image_2.jpg  \n",
            "  inflating: /content/drive/MyDrive/Dataset/Bus/Image_20.jpg  \n",
            "  inflating: /content/drive/MyDrive/Dataset/Bus/Image_21.jpg  \n",
            "  inflating: /content/drive/MyDrive/Dataset/Bus/Image_22.jpg  \n",
            "  inflating: /content/drive/MyDrive/Dataset/Bus/Image_23.jpg  \n",
            "  inflating: /content/drive/MyDrive/Dataset/Bus/Image_24.png  \n",
            "  inflating: /content/drive/MyDrive/Dataset/Bus/Image_25.png  \n",
            "  inflating: /content/drive/MyDrive/Dataset/Bus/Image_26.jpg  \n",
            "  inflating: /content/drive/MyDrive/Dataset/Bus/Image_27.jpg  \n",
            "  inflating: /content/drive/MyDrive/Dataset/Bus/Image_28.JPG  \n",
            "  inflating: /content/drive/MyDrive/Dataset/Bus/Image_29.jpg  \n",
            "  inflating: /content/drive/MyDrive/Dataset/Bus/Image_3.JPG  \n",
            "  inflating: /content/drive/MyDrive/Dataset/Bus/Image_30.jpg  \n",
            "  inflating: /content/drive/MyDrive/Dataset/Bus/Image_31.jpg  \n",
            "  inflating: /content/drive/MyDrive/Dataset/Bus/Image_32.jpg  \n",
            "  inflating: /content/drive/MyDrive/Dataset/Bus/Image_33.JPG  \n",
            "  inflating: /content/drive/MyDrive/Dataset/Bus/Image_34.jpg  \n",
            "  inflating: /content/drive/MyDrive/Dataset/Bus/Image_35.jpg  \n",
            "  inflating: /content/drive/MyDrive/Dataset/Bus/Image_36.jpg  \n",
            "  inflating: /content/drive/MyDrive/Dataset/Bus/Image_37.jpg  \n",
            "  inflating: /content/drive/MyDrive/Dataset/Bus/Image_38.jpg  \n",
            "  inflating: /content/drive/MyDrive/Dataset/Bus/Image_39.JPG  \n",
            "  inflating: /content/drive/MyDrive/Dataset/Bus/Image_4.jpg  \n",
            "  inflating: /content/drive/MyDrive/Dataset/Bus/Image_40.jpg  \n",
            "  inflating: /content/drive/MyDrive/Dataset/Bus/Image_41.jpg  \n",
            "  inflating: /content/drive/MyDrive/Dataset/Bus/Image_42.jpg  \n",
            "  inflating: /content/drive/MyDrive/Dataset/Bus/Image_43.jpg  \n",
            "  inflating: /content/drive/MyDrive/Dataset/Bus/Image_44.jpg  \n",
            "  inflating: /content/drive/MyDrive/Dataset/Bus/Image_45.jpg  \n",
            "  inflating: /content/drive/MyDrive/Dataset/Bus/Image_46.jpg  \n",
            "  inflating: /content/drive/MyDrive/Dataset/Bus/Image_47.jpg  \n",
            "  inflating: /content/drive/MyDrive/Dataset/Bus/Image_48.JPG  \n",
            "  inflating: /content/drive/MyDrive/Dataset/Bus/Image_49.jpg  \n",
            "  inflating: /content/drive/MyDrive/Dataset/Bus/Image_5.jpg  \n",
            "  inflating: /content/drive/MyDrive/Dataset/Bus/Image_50.jpg  \n",
            "  inflating: /content/drive/MyDrive/Dataset/Bus/Image_51.jpg  \n",
            "  inflating: /content/drive/MyDrive/Dataset/Bus/Image_52.jpg  \n",
            "  inflating: /content/drive/MyDrive/Dataset/Bus/Image_53.jpg  \n",
            "  inflating: /content/drive/MyDrive/Dataset/Bus/Image_54.jpg  \n",
            "  inflating: /content/drive/MyDrive/Dataset/Bus/Image_55.jpg  \n",
            "  inflating: /content/drive/MyDrive/Dataset/Bus/Image_56.jpg  \n",
            "  inflating: /content/drive/MyDrive/Dataset/Bus/Image_57.jpg  \n",
            "  inflating: /content/drive/MyDrive/Dataset/Bus/Image_58.jpg  \n",
            "  inflating: /content/drive/MyDrive/Dataset/Bus/Image_59.jpg  \n",
            "  inflating: /content/drive/MyDrive/Dataset/Bus/Image_6.jpg  \n",
            "  inflating: /content/drive/MyDrive/Dataset/Bus/Image_60.jpg  \n",
            "  inflating: /content/drive/MyDrive/Dataset/Bus/Image_61.jpg  \n",
            "  inflating: /content/drive/MyDrive/Dataset/Bus/Image_62.jpg  \n",
            "  inflating: /content/drive/MyDrive/Dataset/Bus/Image_63.jpg  \n",
            "  inflating: /content/drive/MyDrive/Dataset/Bus/Image_64.jpg  \n",
            "  inflating: /content/drive/MyDrive/Dataset/Bus/Image_65.jpg  \n",
            "  inflating: /content/drive/MyDrive/Dataset/Bus/Image_66.JPG  \n",
            "  inflating: /content/drive/MyDrive/Dataset/Bus/Image_67.jpg  \n",
            "  inflating: /content/drive/MyDrive/Dataset/Bus/Image_68.jpg  \n",
            "  inflating: /content/drive/MyDrive/Dataset/Bus/Image_69.jpg  \n",
            "  inflating: /content/drive/MyDrive/Dataset/Bus/Image_7.jpg  \n",
            "  inflating: /content/drive/MyDrive/Dataset/Bus/Image_70.jpg  \n",
            "  inflating: /content/drive/MyDrive/Dataset/Bus/Image_71.jpg  \n",
            "  inflating: /content/drive/MyDrive/Dataset/Bus/Image_72.jpg  \n",
            "  inflating: /content/drive/MyDrive/Dataset/Bus/Image_73.jpg  \n",
            "  inflating: /content/drive/MyDrive/Dataset/Bus/Image_74.jpg  \n",
            "  inflating: /content/drive/MyDrive/Dataset/Bus/Image_75.jpg  \n",
            "  inflating: /content/drive/MyDrive/Dataset/Bus/Image_76.jpg  \n",
            "  inflating: /content/drive/MyDrive/Dataset/Bus/Image_77.jpg  \n",
            "  inflating: /content/drive/MyDrive/Dataset/Bus/Image_78.jpg  \n",
            "  inflating: /content/drive/MyDrive/Dataset/Bus/Image_79.png  \n",
            "  inflating: /content/drive/MyDrive/Dataset/Bus/Image_8.jpg  \n",
            "  inflating: /content/drive/MyDrive/Dataset/Bus/Image_80.jpg  \n",
            "  inflating: /content/drive/MyDrive/Dataset/Bus/Image_81.jpg  \n",
            "  inflating: /content/drive/MyDrive/Dataset/Bus/Image_82.jpg  \n",
            "  inflating: /content/drive/MyDrive/Dataset/Bus/Image_83.jpg  \n",
            "  inflating: /content/drive/MyDrive/Dataset/Bus/Image_84.jpg  \n",
            "  inflating: /content/drive/MyDrive/Dataset/Bus/Image_85.jpg  \n",
            "  inflating: /content/drive/MyDrive/Dataset/Bus/Image_86.jpg  \n",
            "  inflating: /content/drive/MyDrive/Dataset/Bus/Image_87.jpg  \n",
            "  inflating: /content/drive/MyDrive/Dataset/Bus/Image_88.jpg  \n",
            "  inflating: /content/drive/MyDrive/Dataset/Bus/Image_89.JPG  \n",
            "  inflating: /content/drive/MyDrive/Dataset/Bus/Image_9.jpg  \n",
            "  inflating: /content/drive/MyDrive/Dataset/Bus/Image_90.jpg  \n",
            "  inflating: /content/drive/MyDrive/Dataset/Bus/Image_91.jpg  \n",
            "  inflating: /content/drive/MyDrive/Dataset/Bus/Image_92.jpg  \n",
            "  inflating: /content/drive/MyDrive/Dataset/Bus/Image_93.jpeg  \n",
            "  inflating: /content/drive/MyDrive/Dataset/Bus/Image_94.jpg  \n",
            "  inflating: /content/drive/MyDrive/Dataset/Bus/Image_95.jpg  \n",
            "  inflating: /content/drive/MyDrive/Dataset/Bus/Image_96.jpg  \n",
            "  inflating: /content/drive/MyDrive/Dataset/Bus/Image_97.jpg  \n",
            "  inflating: /content/drive/MyDrive/Dataset/Bus/Image_98.jpg  \n",
            "  inflating: /content/drive/MyDrive/Dataset/Bus/Image_99.jpg  \n",
            "   creating: /content/drive/MyDrive/Dataset/Car/\n",
            "  inflating: /content/drive/MyDrive/Dataset/Car/Image_1.jpg  \n",
            "  inflating: /content/drive/MyDrive/Dataset/Car/Image_10.jpeg  \n",
            "  inflating: /content/drive/MyDrive/Dataset/Car/Image_100.jpg  \n",
            "  inflating: /content/drive/MyDrive/Dataset/Car/Image_11.jpg  \n",
            "  inflating: /content/drive/MyDrive/Dataset/Car/Image_12.jpg  \n",
            "  inflating: /content/drive/MyDrive/Dataset/Car/Image_13.jpg  \n",
            "  inflating: /content/drive/MyDrive/Dataset/Car/Image_14.JPG  \n",
            "  inflating: /content/drive/MyDrive/Dataset/Car/Image_15.jpg  \n",
            "  inflating: /content/drive/MyDrive/Dataset/Car/Image_16.jpeg  \n",
            "  inflating: /content/drive/MyDrive/Dataset/Car/Image_17.jpg  \n",
            "  inflating: /content/drive/MyDrive/Dataset/Car/Image_18.png  \n",
            "  inflating: /content/drive/MyDrive/Dataset/Car/Image_19.jpeg  \n",
            "  inflating: /content/drive/MyDrive/Dataset/Car/Image_2.jpg  \n",
            "  inflating: /content/drive/MyDrive/Dataset/Car/Image_20.jpg  \n",
            "  inflating: /content/drive/MyDrive/Dataset/Car/Image_21.jpg  \n",
            "  inflating: /content/drive/MyDrive/Dataset/Car/Image_22.jpg  \n",
            "  inflating: /content/drive/MyDrive/Dataset/Car/Image_23.jpg  \n",
            "  inflating: /content/drive/MyDrive/Dataset/Car/Image_24.jpg  \n",
            "  inflating: /content/drive/MyDrive/Dataset/Car/Image_25.jpg  \n",
            "  inflating: /content/drive/MyDrive/Dataset/Car/Image_26.jpg  \n",
            "  inflating: /content/drive/MyDrive/Dataset/Car/Image_27.jpg  \n",
            "  inflating: /content/drive/MyDrive/Dataset/Car/Image_28.jpg  \n",
            "  inflating: /content/drive/MyDrive/Dataset/Car/Image_29.jpg  \n",
            "  inflating: /content/drive/MyDrive/Dataset/Car/Image_3.jpeg  \n",
            "  inflating: /content/drive/MyDrive/Dataset/Car/Image_30.jpg  \n",
            "  inflating: /content/drive/MyDrive/Dataset/Car/Image_31.jpg  \n",
            "  inflating: /content/drive/MyDrive/Dataset/Car/Image_32.jpg  \n",
            "  inflating: /content/drive/MyDrive/Dataset/Car/Image_33.jpg  \n",
            "  inflating: /content/drive/MyDrive/Dataset/Car/Image_34.jpg  \n",
            "  inflating: /content/drive/MyDrive/Dataset/Car/Image_35.jpg  \n",
            "  inflating: /content/drive/MyDrive/Dataset/Car/Image_36.jpg  \n",
            "  inflating: /content/drive/MyDrive/Dataset/Car/Image_37.jpg  \n",
            "  inflating: /content/drive/MyDrive/Dataset/Car/Image_38.jpg  \n",
            "  inflating: /content/drive/MyDrive/Dataset/Car/Image_39.jpg  \n",
            "  inflating: /content/drive/MyDrive/Dataset/Car/Image_4.jpg  \n",
            "  inflating: /content/drive/MyDrive/Dataset/Car/Image_40.jpg  \n",
            "  inflating: /content/drive/MyDrive/Dataset/Car/Image_41.jpg  \n",
            "  inflating: /content/drive/MyDrive/Dataset/Car/Image_42.jpg  \n",
            "  inflating: /content/drive/MyDrive/Dataset/Car/Image_43.jpg  \n",
            "  inflating: /content/drive/MyDrive/Dataset/Car/Image_44.jpg  \n",
            "  inflating: /content/drive/MyDrive/Dataset/Car/Image_45.jpg  \n",
            "  inflating: /content/drive/MyDrive/Dataset/Car/Image_46.jpg  \n",
            "  inflating: /content/drive/MyDrive/Dataset/Car/Image_47.jpg  \n",
            "  inflating: /content/drive/MyDrive/Dataset/Car/Image_48.jpg  \n",
            "  inflating: /content/drive/MyDrive/Dataset/Car/Image_49.jpg  \n",
            "  inflating: /content/drive/MyDrive/Dataset/Car/Image_5.jpg  \n",
            "  inflating: /content/drive/MyDrive/Dataset/Car/Image_50.jpg  \n",
            "  inflating: /content/drive/MyDrive/Dataset/Car/Image_51.jpg  \n",
            "  inflating: /content/drive/MyDrive/Dataset/Car/Image_52.jpg  \n",
            "  inflating: /content/drive/MyDrive/Dataset/Car/Image_53.jpg  \n",
            "  inflating: /content/drive/MyDrive/Dataset/Car/Image_54.jpg  \n",
            "  inflating: /content/drive/MyDrive/Dataset/Car/Image_55.jpg  \n",
            "  inflating: /content/drive/MyDrive/Dataset/Car/Image_56.jpg  \n",
            "  inflating: /content/drive/MyDrive/Dataset/Car/Image_57.jpg  \n",
            "  inflating: /content/drive/MyDrive/Dataset/Car/Image_58.jpg  \n",
            "  inflating: /content/drive/MyDrive/Dataset/Car/Image_59.jpg  \n",
            "  inflating: /content/drive/MyDrive/Dataset/Car/Image_6.jpg  \n",
            "  inflating: /content/drive/MyDrive/Dataset/Car/Image_60.jpg  \n",
            "  inflating: /content/drive/MyDrive/Dataset/Car/Image_61.jpg  \n",
            "  inflating: /content/drive/MyDrive/Dataset/Car/Image_62.jpg  \n",
            "  inflating: /content/drive/MyDrive/Dataset/Car/Image_63.jpg  \n",
            "  inflating: /content/drive/MyDrive/Dataset/Car/Image_64.jpg  \n",
            "  inflating: /content/drive/MyDrive/Dataset/Car/Image_65.jpg  \n",
            "  inflating: /content/drive/MyDrive/Dataset/Car/Image_66.jpg  \n",
            "  inflating: /content/drive/MyDrive/Dataset/Car/Image_67.jpg  \n",
            "  inflating: /content/drive/MyDrive/Dataset/Car/Image_68.jpg  \n",
            "  inflating: /content/drive/MyDrive/Dataset/Car/Image_69.jpg  \n",
            "  inflating: /content/drive/MyDrive/Dataset/Car/Image_7.jpg  \n",
            "  inflating: /content/drive/MyDrive/Dataset/Car/Image_70.jpg  \n",
            "  inflating: /content/drive/MyDrive/Dataset/Car/Image_71.jpg  \n",
            "  inflating: /content/drive/MyDrive/Dataset/Car/Image_72.jpg  \n",
            "  inflating: /content/drive/MyDrive/Dataset/Car/Image_73.JPG  \n",
            "  inflating: /content/drive/MyDrive/Dataset/Car/Image_74.jpg  \n",
            "  inflating: /content/drive/MyDrive/Dataset/Car/Image_75.jpg  \n",
            "  inflating: /content/drive/MyDrive/Dataset/Car/Image_76.jpg  \n",
            "  inflating: /content/drive/MyDrive/Dataset/Car/Image_77.jpg  \n",
            "  inflating: /content/drive/MyDrive/Dataset/Car/Image_78.jpg  \n",
            "  inflating: /content/drive/MyDrive/Dataset/Car/Image_79.jpg  \n",
            "  inflating: /content/drive/MyDrive/Dataset/Car/Image_8.jpg  \n",
            "  inflating: /content/drive/MyDrive/Dataset/Car/Image_80.jpg  \n",
            "  inflating: /content/drive/MyDrive/Dataset/Car/Image_81.jpg  \n",
            "  inflating: /content/drive/MyDrive/Dataset/Car/Image_82.png  \n",
            "  inflating: /content/drive/MyDrive/Dataset/Car/Image_83.jpg  \n",
            "  inflating: /content/drive/MyDrive/Dataset/Car/Image_84.jpg  \n",
            "  inflating: /content/drive/MyDrive/Dataset/Car/Image_85.jpg  \n",
            "  inflating: /content/drive/MyDrive/Dataset/Car/Image_86.jpg  \n",
            "  inflating: /content/drive/MyDrive/Dataset/Car/Image_87.jpg  \n",
            "  inflating: /content/drive/MyDrive/Dataset/Car/Image_88.png  \n",
            "  inflating: /content/drive/MyDrive/Dataset/Car/Image_89.png  \n",
            "  inflating: /content/drive/MyDrive/Dataset/Car/Image_9.jpg  \n",
            "  inflating: /content/drive/MyDrive/Dataset/Car/Image_90.jpg  \n",
            "  inflating: /content/drive/MyDrive/Dataset/Car/Image_91.jpg  \n",
            "  inflating: /content/drive/MyDrive/Dataset/Car/Image_92.jpg  \n",
            "  inflating: /content/drive/MyDrive/Dataset/Car/Image_93.jpg  \n",
            "  inflating: /content/drive/MyDrive/Dataset/Car/Image_94.jpg  \n",
            "  inflating: /content/drive/MyDrive/Dataset/Car/Image_95.png  \n",
            "  inflating: /content/drive/MyDrive/Dataset/Car/Image_96.jpg  \n",
            "  inflating: /content/drive/MyDrive/Dataset/Car/Image_97.JPG  \n",
            "  inflating: /content/drive/MyDrive/Dataset/Car/Image_98.jpg  \n",
            "  inflating: /content/drive/MyDrive/Dataset/Car/Image_99.jpg  \n",
            "   creating: /content/drive/MyDrive/Dataset/Motorcycle/\n",
            "  inflating: /content/drive/MyDrive/Dataset/Motorcycle/Image_1.jpeg  \n",
            "  inflating: /content/drive/MyDrive/Dataset/Motorcycle/Image_10.jpg  \n",
            "  inflating: /content/drive/MyDrive/Dataset/Motorcycle/Image_100.jpg  \n",
            "  inflating: /content/drive/MyDrive/Dataset/Motorcycle/Image_11.jpg  \n",
            "  inflating: /content/drive/MyDrive/Dataset/Motorcycle/Image_12.jpg  \n",
            "  inflating: /content/drive/MyDrive/Dataset/Motorcycle/Image_13.jpg  \n",
            "  inflating: /content/drive/MyDrive/Dataset/Motorcycle/Image_14.jpeg  \n",
            "  inflating: /content/drive/MyDrive/Dataset/Motorcycle/Image_15.png  \n",
            "  inflating: /content/drive/MyDrive/Dataset/Motorcycle/Image_16.jpg  \n",
            "  inflating: /content/drive/MyDrive/Dataset/Motorcycle/Image_17.jpg  \n",
            "  inflating: /content/drive/MyDrive/Dataset/Motorcycle/Image_18.jpg  \n",
            "  inflating: /content/drive/MyDrive/Dataset/Motorcycle/Image_19.jpg  \n",
            "  inflating: /content/drive/MyDrive/Dataset/Motorcycle/Image_2.jpg  \n",
            "  inflating: /content/drive/MyDrive/Dataset/Motorcycle/Image_20.jpg  \n",
            "  inflating: /content/drive/MyDrive/Dataset/Motorcycle/Image_21.png  \n",
            "  inflating: /content/drive/MyDrive/Dataset/Motorcycle/Image_22.jpg  \n",
            "  inflating: /content/drive/MyDrive/Dataset/Motorcycle/Image_23.jpg  \n",
            "  inflating: /content/drive/MyDrive/Dataset/Motorcycle/Image_24.jpg  \n",
            "  inflating: /content/drive/MyDrive/Dataset/Motorcycle/Image_25.jpg  \n",
            "  inflating: /content/drive/MyDrive/Dataset/Motorcycle/Image_26.jpg  \n",
            "  inflating: /content/drive/MyDrive/Dataset/Motorcycle/Image_27.jpg  \n",
            "  inflating: /content/drive/MyDrive/Dataset/Motorcycle/Image_28.jpg  \n",
            "  inflating: /content/drive/MyDrive/Dataset/Motorcycle/Image_29.jpeg  \n",
            "  inflating: /content/drive/MyDrive/Dataset/Motorcycle/Image_3.jpg  \n",
            "  inflating: /content/drive/MyDrive/Dataset/Motorcycle/Image_30.png  \n",
            "  inflating: /content/drive/MyDrive/Dataset/Motorcycle/Image_31.jpg  \n",
            "  inflating: /content/drive/MyDrive/Dataset/Motorcycle/Image_32.JPG  \n",
            "  inflating: /content/drive/MyDrive/Dataset/Motorcycle/Image_33.jpg  \n",
            "  inflating: /content/drive/MyDrive/Dataset/Motorcycle/Image_34.JPG  \n",
            "  inflating: /content/drive/MyDrive/Dataset/Motorcycle/Image_35.jpg  \n",
            "  inflating: /content/drive/MyDrive/Dataset/Motorcycle/Image_36.jpg  \n",
            "  inflating: /content/drive/MyDrive/Dataset/Motorcycle/Image_37.jpg  \n",
            "  inflating: /content/drive/MyDrive/Dataset/Motorcycle/Image_38.jpeg  \n",
            "  inflating: /content/drive/MyDrive/Dataset/Motorcycle/Image_39.jpg  \n",
            "  inflating: /content/drive/MyDrive/Dataset/Motorcycle/Image_4.jpg  \n",
            "  inflating: /content/drive/MyDrive/Dataset/Motorcycle/Image_40.jpg  \n",
            "  inflating: /content/drive/MyDrive/Dataset/Motorcycle/Image_41.jpg  \n",
            "  inflating: /content/drive/MyDrive/Dataset/Motorcycle/Image_42.jpg  \n",
            "  inflating: /content/drive/MyDrive/Dataset/Motorcycle/Image_43.jpeg  \n",
            "  inflating: /content/drive/MyDrive/Dataset/Motorcycle/Image_44.jpg  \n",
            "  inflating: /content/drive/MyDrive/Dataset/Motorcycle/Image_45.jpg  \n",
            "  inflating: /content/drive/MyDrive/Dataset/Motorcycle/Image_46.jpg  \n",
            "  inflating: /content/drive/MyDrive/Dataset/Motorcycle/Image_47.jpg  \n",
            "  inflating: /content/drive/MyDrive/Dataset/Motorcycle/Image_48.jpg  \n",
            "  inflating: /content/drive/MyDrive/Dataset/Motorcycle/Image_49.jpg  \n",
            "  inflating: /content/drive/MyDrive/Dataset/Motorcycle/Image_5.jpg  \n",
            "  inflating: /content/drive/MyDrive/Dataset/Motorcycle/Image_50.jpg  \n",
            "  inflating: /content/drive/MyDrive/Dataset/Motorcycle/Image_51.jpg  \n",
            "  inflating: /content/drive/MyDrive/Dataset/Motorcycle/Image_52.jpg  \n",
            "  inflating: /content/drive/MyDrive/Dataset/Motorcycle/Image_53.jpg  \n",
            "  inflating: /content/drive/MyDrive/Dataset/Motorcycle/Image_54.jpg  \n",
            "  inflating: /content/drive/MyDrive/Dataset/Motorcycle/Image_55.JPG  \n",
            "  inflating: /content/drive/MyDrive/Dataset/Motorcycle/Image_56.jpg  \n",
            "  inflating: /content/drive/MyDrive/Dataset/Motorcycle/Image_57.jpg  \n",
            "  inflating: /content/drive/MyDrive/Dataset/Motorcycle/Image_58.png  \n",
            "  inflating: /content/drive/MyDrive/Dataset/Motorcycle/Image_59.jpg  \n",
            "  inflating: /content/drive/MyDrive/Dataset/Motorcycle/Image_6.jpg  \n",
            "  inflating: /content/drive/MyDrive/Dataset/Motorcycle/Image_60.jpg  \n",
            "  inflating: /content/drive/MyDrive/Dataset/Motorcycle/Image_61.jpg  \n",
            "  inflating: /content/drive/MyDrive/Dataset/Motorcycle/Image_62.jpg  \n",
            "  inflating: /content/drive/MyDrive/Dataset/Motorcycle/Image_63.JPG  \n",
            "  inflating: /content/drive/MyDrive/Dataset/Motorcycle/Image_64.jpg  \n",
            "  inflating: /content/drive/MyDrive/Dataset/Motorcycle/Image_65.jpg  \n",
            "  inflating: /content/drive/MyDrive/Dataset/Motorcycle/Image_66.jpg  \n",
            "  inflating: /content/drive/MyDrive/Dataset/Motorcycle/Image_67.jpg  \n",
            "  inflating: /content/drive/MyDrive/Dataset/Motorcycle/Image_68.jpeg  \n",
            "  inflating: /content/drive/MyDrive/Dataset/Motorcycle/Image_69.jpg  \n",
            "  inflating: /content/drive/MyDrive/Dataset/Motorcycle/Image_7.jpg  \n",
            "  inflating: /content/drive/MyDrive/Dataset/Motorcycle/Image_70.jpg  \n",
            "  inflating: /content/drive/MyDrive/Dataset/Motorcycle/Image_71.jpg  \n",
            "  inflating: /content/drive/MyDrive/Dataset/Motorcycle/Image_72.jpg  \n",
            "  inflating: /content/drive/MyDrive/Dataset/Motorcycle/Image_73.jpg  \n",
            "  inflating: /content/drive/MyDrive/Dataset/Motorcycle/Image_74.jpg  \n",
            "  inflating: /content/drive/MyDrive/Dataset/Motorcycle/Image_75.jpg  \n",
            "  inflating: /content/drive/MyDrive/Dataset/Motorcycle/Image_76.jpeg  \n",
            "  inflating: /content/drive/MyDrive/Dataset/Motorcycle/Image_77.jpg  \n",
            "  inflating: /content/drive/MyDrive/Dataset/Motorcycle/Image_78.jpeg  \n",
            "  inflating: /content/drive/MyDrive/Dataset/Motorcycle/Image_79.jpg  \n",
            "  inflating: /content/drive/MyDrive/Dataset/Motorcycle/Image_8.jpg  \n",
            "  inflating: /content/drive/MyDrive/Dataset/Motorcycle/Image_80.jpg  \n",
            "  inflating: /content/drive/MyDrive/Dataset/Motorcycle/Image_81.jpg  \n",
            "  inflating: /content/drive/MyDrive/Dataset/Motorcycle/Image_82.jpg  \n",
            "  inflating: /content/drive/MyDrive/Dataset/Motorcycle/Image_83.jpeg  \n",
            "  inflating: /content/drive/MyDrive/Dataset/Motorcycle/Image_84.jpg  \n",
            "  inflating: /content/drive/MyDrive/Dataset/Motorcycle/Image_85.jpeg  \n",
            "  inflating: /content/drive/MyDrive/Dataset/Motorcycle/Image_86.jpg  \n",
            "  inflating: /content/drive/MyDrive/Dataset/Motorcycle/Image_87.jpg  \n",
            "  inflating: /content/drive/MyDrive/Dataset/Motorcycle/Image_88.JPG  \n",
            "  inflating: /content/drive/MyDrive/Dataset/Motorcycle/Image_89.jpg  \n",
            "  inflating: /content/drive/MyDrive/Dataset/Motorcycle/Image_9.jpg  \n",
            "  inflating: /content/drive/MyDrive/Dataset/Motorcycle/Image_90.jpg  \n",
            "  inflating: /content/drive/MyDrive/Dataset/Motorcycle/Image_91.jpg  \n",
            "  inflating: /content/drive/MyDrive/Dataset/Motorcycle/Image_92.jpg  \n",
            "  inflating: /content/drive/MyDrive/Dataset/Motorcycle/Image_93.jpg  \n",
            "  inflating: /content/drive/MyDrive/Dataset/Motorcycle/Image_94.JPG  \n",
            "  inflating: /content/drive/MyDrive/Dataset/Motorcycle/Image_95.jpg  \n",
            "  inflating: /content/drive/MyDrive/Dataset/Motorcycle/Image_96.jpeg  \n",
            "  inflating: /content/drive/MyDrive/Dataset/Motorcycle/Image_97.JPG  \n",
            "  inflating: /content/drive/MyDrive/Dataset/Motorcycle/Image_98.jpg  \n",
            "  inflating: /content/drive/MyDrive/Dataset/Motorcycle/Image_99.jpg  \n",
            "   creating: /content/drive/MyDrive/Dataset/Truck/\n",
            "  inflating: /content/drive/MyDrive/Dataset/Truck/Image_1.jpg  \n",
            "  inflating: /content/drive/MyDrive/Dataset/Truck/Image_10.jpg  \n",
            "  inflating: /content/drive/MyDrive/Dataset/Truck/Image_100.jpg  \n",
            "  inflating: /content/drive/MyDrive/Dataset/Truck/Image_11.jpg  \n",
            "  inflating: /content/drive/MyDrive/Dataset/Truck/Image_12.jpg  \n",
            "  inflating: /content/drive/MyDrive/Dataset/Truck/Image_13.JPG  \n",
            "  inflating: /content/drive/MyDrive/Dataset/Truck/Image_14.jpg  \n",
            "  inflating: /content/drive/MyDrive/Dataset/Truck/Image_15.jpg  \n",
            "  inflating: /content/drive/MyDrive/Dataset/Truck/Image_16.jpg  \n",
            "  inflating: /content/drive/MyDrive/Dataset/Truck/Image_17.jpg  \n",
            "  inflating: /content/drive/MyDrive/Dataset/Truck/Image_18.jpg  \n",
            "  inflating: /content/drive/MyDrive/Dataset/Truck/Image_19.jpg  \n",
            "  inflating: /content/drive/MyDrive/Dataset/Truck/Image_2.jpg  \n",
            "  inflating: /content/drive/MyDrive/Dataset/Truck/Image_20.jpg  \n",
            "  inflating: /content/drive/MyDrive/Dataset/Truck/Image_21.jpg  \n",
            "  inflating: /content/drive/MyDrive/Dataset/Truck/Image_22.jpg  \n",
            "  inflating: /content/drive/MyDrive/Dataset/Truck/Image_23.jpg  \n",
            "  inflating: /content/drive/MyDrive/Dataset/Truck/Image_24.jpg  \n",
            "  inflating: /content/drive/MyDrive/Dataset/Truck/Image_25.jpg  \n",
            "  inflating: /content/drive/MyDrive/Dataset/Truck/Image_26.jpg  \n",
            "  inflating: /content/drive/MyDrive/Dataset/Truck/Image_27.jpg  \n",
            "  inflating: /content/drive/MyDrive/Dataset/Truck/Image_28.jpg  \n",
            "  inflating: /content/drive/MyDrive/Dataset/Truck/Image_29.JPG  \n",
            "  inflating: /content/drive/MyDrive/Dataset/Truck/Image_3.jpg  \n",
            "  inflating: /content/drive/MyDrive/Dataset/Truck/Image_30.jpg  \n",
            "  inflating: /content/drive/MyDrive/Dataset/Truck/Image_31.jpg  \n",
            "  inflating: /content/drive/MyDrive/Dataset/Truck/Image_32.jpg  \n",
            "  inflating: /content/drive/MyDrive/Dataset/Truck/Image_33.jpg  \n",
            "  inflating: /content/drive/MyDrive/Dataset/Truck/Image_34.jpg  \n",
            "  inflating: /content/drive/MyDrive/Dataset/Truck/Image_35.jpg  \n",
            "  inflating: /content/drive/MyDrive/Dataset/Truck/Image_36.jpg  \n",
            "  inflating: /content/drive/MyDrive/Dataset/Truck/Image_37.jpg  \n",
            "  inflating: /content/drive/MyDrive/Dataset/Truck/Image_38.jpg  \n",
            "  inflating: /content/drive/MyDrive/Dataset/Truck/Image_39.jpg  \n",
            "  inflating: /content/drive/MyDrive/Dataset/Truck/Image_4.jpg  \n",
            "  inflating: /content/drive/MyDrive/Dataset/Truck/Image_40.jpg  \n",
            "  inflating: /content/drive/MyDrive/Dataset/Truck/Image_41.jpg  \n",
            "  inflating: /content/drive/MyDrive/Dataset/Truck/Image_42.png  \n",
            "  inflating: /content/drive/MyDrive/Dataset/Truck/Image_43.jpg  \n",
            "  inflating: /content/drive/MyDrive/Dataset/Truck/Image_44.jpg  \n",
            "  inflating: /content/drive/MyDrive/Dataset/Truck/Image_45.jpg  \n",
            "  inflating: /content/drive/MyDrive/Dataset/Truck/Image_46.jpg  \n",
            "  inflating: /content/drive/MyDrive/Dataset/Truck/Image_47.jpg  \n",
            "  inflating: /content/drive/MyDrive/Dataset/Truck/Image_48.jpg  \n",
            "  inflating: /content/drive/MyDrive/Dataset/Truck/Image_49.JPG  \n",
            "  inflating: /content/drive/MyDrive/Dataset/Truck/Image_5.jpg  \n",
            "  inflating: /content/drive/MyDrive/Dataset/Truck/Image_50.jpg  \n",
            "  inflating: /content/drive/MyDrive/Dataset/Truck/Image_51.jpg  \n",
            "  inflating: /content/drive/MyDrive/Dataset/Truck/Image_52.jpg  \n",
            "  inflating: /content/drive/MyDrive/Dataset/Truck/Image_53.jpg  \n",
            "  inflating: /content/drive/MyDrive/Dataset/Truck/Image_54.jpg  \n",
            "  inflating: /content/drive/MyDrive/Dataset/Truck/Image_55.jpg  \n",
            "  inflating: /content/drive/MyDrive/Dataset/Truck/Image_56.jpeg  \n",
            "  inflating: /content/drive/MyDrive/Dataset/Truck/Image_57.png  \n",
            "  inflating: /content/drive/MyDrive/Dataset/Truck/Image_58.jpg  \n",
            "  inflating: /content/drive/MyDrive/Dataset/Truck/Image_59.jpg  \n",
            "  inflating: /content/drive/MyDrive/Dataset/Truck/Image_6.jpg  \n",
            "  inflating: /content/drive/MyDrive/Dataset/Truck/Image_60.png  \n",
            "  inflating: /content/drive/MyDrive/Dataset/Truck/Image_61.jpg  \n",
            "  inflating: /content/drive/MyDrive/Dataset/Truck/Image_62.jpg  \n",
            "  inflating: /content/drive/MyDrive/Dataset/Truck/Image_63.jpg  \n",
            "  inflating: /content/drive/MyDrive/Dataset/Truck/Image_64.jpg  \n",
            "  inflating: /content/drive/MyDrive/Dataset/Truck/Image_65.jpg  \n",
            "  inflating: /content/drive/MyDrive/Dataset/Truck/Image_66.jpg  \n",
            "  inflating: /content/drive/MyDrive/Dataset/Truck/Image_67.jpg  \n",
            "  inflating: /content/drive/MyDrive/Dataset/Truck/Image_68.jpg  \n",
            "  inflating: /content/drive/MyDrive/Dataset/Truck/Image_69.jpg  \n",
            "  inflating: /content/drive/MyDrive/Dataset/Truck/Image_7.jpg  \n",
            "  inflating: /content/drive/MyDrive/Dataset/Truck/Image_70.jpg  \n",
            "  inflating: /content/drive/MyDrive/Dataset/Truck/Image_71.jpg  \n",
            "  inflating: /content/drive/MyDrive/Dataset/Truck/Image_72.png  \n",
            "  inflating: /content/drive/MyDrive/Dataset/Truck/Image_73.jpg  \n",
            "  inflating: /content/drive/MyDrive/Dataset/Truck/Image_74.jpg  \n",
            "  inflating: /content/drive/MyDrive/Dataset/Truck/Image_75.jpg  \n",
            "  inflating: /content/drive/MyDrive/Dataset/Truck/Image_76.jpg  \n",
            "  inflating: /content/drive/MyDrive/Dataset/Truck/Image_77.png  \n",
            "  inflating: /content/drive/MyDrive/Dataset/Truck/Image_78.jpg  \n",
            "  inflating: /content/drive/MyDrive/Dataset/Truck/Image_79.png  \n",
            "  inflating: /content/drive/MyDrive/Dataset/Truck/Image_8.JPG  \n",
            "  inflating: /content/drive/MyDrive/Dataset/Truck/Image_80.jpg  \n",
            "  inflating: /content/drive/MyDrive/Dataset/Truck/Image_81.png  \n",
            "  inflating: /content/drive/MyDrive/Dataset/Truck/Image_82.jpg  \n",
            "  inflating: /content/drive/MyDrive/Dataset/Truck/Image_83.jpg  \n",
            "  inflating: /content/drive/MyDrive/Dataset/Truck/Image_84.jpg  \n",
            "  inflating: /content/drive/MyDrive/Dataset/Truck/Image_85.jpg  \n",
            "  inflating: /content/drive/MyDrive/Dataset/Truck/Image_86.png  \n",
            "  inflating: /content/drive/MyDrive/Dataset/Truck/Image_87.jpg  \n",
            "  inflating: /content/drive/MyDrive/Dataset/Truck/Image_88.jpg  \n",
            "  inflating: /content/drive/MyDrive/Dataset/Truck/Image_89.jpg  \n",
            "  inflating: /content/drive/MyDrive/Dataset/Truck/Image_9.jpg  \n",
            "  inflating: /content/drive/MyDrive/Dataset/Truck/Image_90.jpg  \n",
            "  inflating: /content/drive/MyDrive/Dataset/Truck/Image_91.jpg  \n",
            "  inflating: /content/drive/MyDrive/Dataset/Truck/Image_92.jpg  \n",
            "  inflating: /content/drive/MyDrive/Dataset/Truck/Image_93.jpg  \n",
            "  inflating: /content/drive/MyDrive/Dataset/Truck/Image_94.jpg  \n",
            "  inflating: /content/drive/MyDrive/Dataset/Truck/Image_95.jpg  \n",
            "  inflating: /content/drive/MyDrive/Dataset/Truck/Image_96.jpg  \n",
            "  inflating: /content/drive/MyDrive/Dataset/Truck/Image_97.jpg  \n",
            "  inflating: /content/drive/MyDrive/Dataset/Truck/Image_98.jpg  \n",
            "  inflating: /content/drive/MyDrive/Dataset/Truck/Image_99.jpg  \n"
          ]
        }
      ]
    },
    {
      "cell_type": "code",
      "source": [
        "!ls \"/content/drive/MyDrive/Dataset\"  # Make sure this path matches where the dataset was unzipped\n"
      ],
      "metadata": {
        "colab": {
          "base_uri": "https://localhost:8080/"
        },
        "id": "ayrQmkJB0Muq",
        "outputId": "1e02b15c-d78e-4b64-a5ad-2a1ec39cef8c"
      },
      "execution_count": null,
      "outputs": [
        {
          "output_type": "stream",
          "name": "stdout",
          "text": [
            "Bus  Car  Motorcycle  Truck\n"
          ]
        }
      ]
    },
    {
      "cell_type": "code",
      "source": [
        "DATASET_PATH = \"/content/drive/MyDrive/Dataset\"\n"
      ],
      "metadata": {
        "id": "RDlNdF600wy4"
      },
      "execution_count": null,
      "outputs": []
    },
    {
      "cell_type": "code",
      "source": [
        "import os\n",
        "import numpy as np\n",
        "import tensorflow as tf\n",
        "from tensorflow.keras.models import Sequential, Model\n",
        "from tensorflow.keras.layers import Conv2D, MaxPooling2D, Flatten, Dense, Dropout, BatchNormalization\n",
        "from tensorflow.keras.preprocessing.image import ImageDataGenerator\n",
        "from sklearn.model_selection import train_test_split\n",
        "from tensorflow.keras.optimizers import Adam\n",
        "import matplotlib.pyplot as plt\n",
        "from tensorflow.keras.applications import VGG16  # For transfer learning\n",
        "from tensorflow.keras.callbacks import EarlyStopping, ReduceLROnPlateau\n",
        "\n",
        "# Step 1: Load Dataset\n",
        "DATASET_PATH = \"/content/drive/My Drive/Dataset\"  # Replace with your dataset path\n",
        "classes = [\"Bus\", \"Car\", \"Motorcycle\", \"Truck\"]\n",
        "img_size = 224 #VGG16 input size\n",
        "\n",
        "# Function to load images and labels (same as before)\n",
        "def load_data(dataset_path, classes, img_size):\n",
        "    data = []\n",
        "    labels = []\n",
        "    for label, class_name in enumerate(classes):\n",
        "        class_path = os.path.join(dataset_path, class_name)\n",
        "        for img_file in os.listdir(class_path):\n",
        "            img_path = os.path.join(class_path, img_file)\n",
        "            try:\n",
        "                img = tf.keras.preprocessing.image.load_img(img_path, target_size=(img_size, img_size))\n",
        "                img_array = tf.keras.preprocessing.image.img_to_array(img)\n",
        "                data.append(img_array)\n",
        "                labels.append(label)\n",
        "            except Exception as e:\n",
        "                print(f\"Error loading image {img_path}: {e}\")\n",
        "    return np.array(data), np.array(labels)\n",
        "\n",
        "# Load the data\n",
        "data, labels = load_data(DATASET_PATH, classes, img_size)\n",
        "data = data / 255.0  # Normalize pixel values\n",
        "\n",
        "# Split into training and testing sets\n",
        "X_train, X_test, y_train, y_test = train_test_split(data, labels, test_size=0.2, random_state=42)\n",
        "\n",
        "# Step 2: Data Augmentation (more aggressive)\n",
        "datagen = ImageDataGenerator(\n",
        "    rotation_range=40,\n",
        "    width_shift_range=0.3,\n",
        "    height_shift_range=0.3,\n",
        "    shear_range=0.3,\n",
        "    zoom_range=0.3,\n",
        "    horizontal_flip=True,\n",
        "    vertical_flip=True, # Added vertical flip\n",
        "    fill_mode='nearest'\n",
        ")\n",
        "datagen.fit(X_train)\n",
        "\n",
        "# Step 3: Transfer Learning with VGG16\n",
        "base_model = VGG16(weights='imagenet', include_top=False, input_shape=(img_size, img_size, 3))\n",
        "for layer in base_model.layers:\n",
        "    layer.trainable = False  # Freeze the base model layers\n",
        "\n",
        "x = base_model.output\n",
        "x = Flatten()(x)\n",
        "x = Dense(512, activation='relu')(x)  # Reduced dense layer size\n",
        "x = BatchNormalization()(x) #Batch Normalization\n",
        "x = Dropout(0.5)(x)\n",
        "predictions = Dense(len(classes), activation='softmax')(x)\n",
        "\n",
        "model = Model(inputs=base_model.input, outputs=predictions)\n",
        "\n",
        "# Step 4: Compile and Train the model (with callbacks)\n",
        "model.compile(optimizer=Adam(learning_rate=0.0001), loss='sparse_categorical_crossentropy', metrics=['accuracy'])\n",
        "\n",
        "# Callbacks\n",
        "early_stopping = EarlyStopping(monitor='val_loss', patience=10, restore_best_weights=True)  # Early stopping\n",
        "reduce_lr = ReduceLROnPlateau(monitor='val_loss', factor=0.5, patience=5, min_lr=1e-6) #Reduce learning rate\n",
        "\n",
        "cnn_history = model.fit(datagen.flow(X_train, y_train, batch_size=32),\n",
        "                    epochs=100, # Increased epochs\n",
        "                    validation_data=(X_test, y_test),\n",
        "                    callbacks=[early_stopping, reduce_lr])\n",
        "\n",
        "# Step 5: Evaluate the model\n",
        "cnn_loss, cnn_accuracy = model.evaluate(X_test, y_test)\n",
        "print(f\"CNN Model Accuracy: {cnn_accuracy}\")\n",
        "\n",
        "# Step 6: Plot training history (same as before)\n",
        "plt.plot(cnn_history.history['accuracy'], label='Train Accuracy')\n",
        "plt.plot(cnn_history.history['val_accuracy'], label='Validation Accuracy')\n",
        "plt.legend()\n",
        "plt.title(\"CNN Training and Validation Accuracy\")\n",
        "plt.show()\n",
        "\n",
        "# Save the model\n",
        "model.save(\"/content/drive/My Drive/vehicle_classification_cnn_vgg16.h5\")"
      ],
      "metadata": {
        "colab": {
          "base_uri": "https://localhost:8080/",
          "height": 1000
        },
        "id": "FTjzZ-ej1KIQ",
        "outputId": "5e412e00-62cf-4eaf-b4bc-2acd53ad6138"
      },
      "execution_count": 22,
      "outputs": [
        {
          "output_type": "stream",
          "name": "stdout",
          "text": [
            "Downloading data from https://storage.googleapis.com/tensorflow/keras-applications/vgg16/vgg16_weights_tf_dim_ordering_tf_kernels_notop.h5\n",
            "\u001b[1m58889256/58889256\u001b[0m \u001b[32m━━━━━━━━━━━━━━━━━━━━\u001b[0m\u001b[37m\u001b[0m \u001b[1m0s\u001b[0m 0us/step\n",
            "Epoch 1/100\n",
            "\u001b[1m10/10\u001b[0m \u001b[32m━━━━━━━━━━━━━━━━━━━━\u001b[0m\u001b[37m\u001b[0m \u001b[1m237s\u001b[0m 23s/step - accuracy: 0.3799 - loss: 1.8562 - val_accuracy: 0.7000 - val_loss: 0.7425 - learning_rate: 1.0000e-04\n",
            "Epoch 2/100\n",
            "\u001b[1m10/10\u001b[0m \u001b[32m━━━━━━━━━━━━━━━━━━━━\u001b[0m\u001b[37m\u001b[0m \u001b[1m269s\u001b[0m 27s/step - accuracy: 0.6182 - loss: 0.9761 - val_accuracy: 0.7500 - val_loss: 0.5959 - learning_rate: 1.0000e-04\n",
            "Epoch 3/100\n",
            "\u001b[1m10/10\u001b[0m \u001b[32m━━━━━━━━━━━━━━━━━━━━\u001b[0m\u001b[37m\u001b[0m \u001b[1m284s\u001b[0m 23s/step - accuracy: 0.6244 - loss: 1.0001 - val_accuracy: 0.7125 - val_loss: 0.6251 - learning_rate: 1.0000e-04\n",
            "Epoch 4/100\n",
            "\u001b[1m10/10\u001b[0m \u001b[32m━━━━━━━━━━━━━━━━━━━━\u001b[0m\u001b[37m\u001b[0m \u001b[1m232s\u001b[0m 23s/step - accuracy: 0.6881 - loss: 0.9597 - val_accuracy: 0.6500 - val_loss: 0.7075 - learning_rate: 1.0000e-04\n",
            "Epoch 5/100\n",
            "\u001b[1m10/10\u001b[0m \u001b[32m━━━━━━━━━━━━━━━━━━━━\u001b[0m\u001b[37m\u001b[0m \u001b[1m262s\u001b[0m 23s/step - accuracy: 0.6946 - loss: 0.8174 - val_accuracy: 0.6250 - val_loss: 0.8013 - learning_rate: 1.0000e-04\n",
            "Epoch 6/100\n",
            "\u001b[1m10/10\u001b[0m \u001b[32m━━━━━━━━━━━━━━━━━━━━\u001b[0m\u001b[37m\u001b[0m \u001b[1m236s\u001b[0m 24s/step - accuracy: 0.7589 - loss: 0.6633 - val_accuracy: 0.7000 - val_loss: 0.6131 - learning_rate: 1.0000e-04\n",
            "Epoch 7/100\n",
            "\u001b[1m10/10\u001b[0m \u001b[32m━━━━━━━━━━━━━━━━━━━━\u001b[0m\u001b[37m\u001b[0m \u001b[1m232s\u001b[0m 23s/step - accuracy: 0.7307 - loss: 0.8146 - val_accuracy: 0.8250 - val_loss: 0.4510 - learning_rate: 1.0000e-04\n",
            "Epoch 8/100\n",
            "\u001b[1m10/10\u001b[0m \u001b[32m━━━━━━━━━━━━━━━━━━━━\u001b[0m\u001b[37m\u001b[0m \u001b[1m232s\u001b[0m 23s/step - accuracy: 0.7411 - loss: 0.6852 - val_accuracy: 0.8250 - val_loss: 0.4253 - learning_rate: 1.0000e-04\n",
            "Epoch 9/100\n",
            "\u001b[1m10/10\u001b[0m \u001b[32m━━━━━━━━━━━━━━━━━━━━\u001b[0m\u001b[37m\u001b[0m \u001b[1m232s\u001b[0m 23s/step - accuracy: 0.7790 - loss: 0.6045 - val_accuracy: 0.8125 - val_loss: 0.5000 - learning_rate: 1.0000e-04\n",
            "Epoch 10/100\n",
            "\u001b[1m10/10\u001b[0m \u001b[32m━━━━━━━━━━━━━━━━━━━━\u001b[0m\u001b[37m\u001b[0m \u001b[1m230s\u001b[0m 23s/step - accuracy: 0.7489 - loss: 0.6283 - val_accuracy: 0.7625 - val_loss: 0.5289 - learning_rate: 1.0000e-04\n",
            "Epoch 11/100\n",
            "\u001b[1m10/10\u001b[0m \u001b[32m━━━━━━━━━━━━━━━━━━━━\u001b[0m\u001b[37m\u001b[0m \u001b[1m231s\u001b[0m 23s/step - accuracy: 0.7753 - loss: 0.6347 - val_accuracy: 0.7875 - val_loss: 0.5011 - learning_rate: 1.0000e-04\n",
            "Epoch 12/100\n",
            "\u001b[1m10/10\u001b[0m \u001b[32m━━━━━━━━━━━━━━━━━━━━\u001b[0m\u001b[37m\u001b[0m \u001b[1m298s\u001b[0m 27s/step - accuracy: 0.7583 - loss: 0.6541 - val_accuracy: 0.8000 - val_loss: 0.4376 - learning_rate: 1.0000e-04\n",
            "Epoch 13/100\n",
            "\u001b[1m10/10\u001b[0m \u001b[32m━━━━━━━━━━━━━━━━━━━━\u001b[0m\u001b[37m\u001b[0m \u001b[1m284s\u001b[0m 23s/step - accuracy: 0.7937 - loss: 0.6150 - val_accuracy: 0.7875 - val_loss: 0.4960 - learning_rate: 1.0000e-04\n",
            "Epoch 14/100\n",
            "\u001b[1m10/10\u001b[0m \u001b[32m━━━━━━━━━━━━━━━━━━━━\u001b[0m\u001b[37m\u001b[0m \u001b[1m267s\u001b[0m 27s/step - accuracy: 0.7793 - loss: 0.7041 - val_accuracy: 0.7875 - val_loss: 0.5012 - learning_rate: 5.0000e-05\n",
            "Epoch 15/100\n",
            "\u001b[1m10/10\u001b[0m \u001b[32m━━━━━━━━━━━━━━━━━━━━\u001b[0m\u001b[37m\u001b[0m \u001b[1m284s\u001b[0m 23s/step - accuracy: 0.8425 - loss: 0.4763 - val_accuracy: 0.8000 - val_loss: 0.4615 - learning_rate: 5.0000e-05\n",
            "Epoch 16/100\n",
            "\u001b[1m10/10\u001b[0m \u001b[32m━━━━━━━━━━━━━━━━━━━━\u001b[0m\u001b[37m\u001b[0m \u001b[1m228s\u001b[0m 23s/step - accuracy: 0.8294 - loss: 0.4952 - val_accuracy: 0.8000 - val_loss: 0.4233 - learning_rate: 5.0000e-05\n",
            "Epoch 17/100\n",
            "\u001b[1m10/10\u001b[0m \u001b[32m━━━━━━━━━━━━━━━━━━━━\u001b[0m\u001b[37m\u001b[0m \u001b[1m267s\u001b[0m 23s/step - accuracy: 0.8558 - loss: 0.4374 - val_accuracy: 0.8000 - val_loss: 0.4182 - learning_rate: 5.0000e-05\n",
            "Epoch 18/100\n",
            "\u001b[1m10/10\u001b[0m \u001b[32m━━━━━━━━━━━━━━━━━━━━\u001b[0m\u001b[37m\u001b[0m \u001b[1m232s\u001b[0m 23s/step - accuracy: 0.8710 - loss: 0.3712 - val_accuracy: 0.8375 - val_loss: 0.4149 - learning_rate: 5.0000e-05\n",
            "Epoch 19/100\n",
            "\u001b[1m10/10\u001b[0m \u001b[32m━━━━━━━━━━━━━━━━━━━━\u001b[0m\u001b[37m\u001b[0m \u001b[1m231s\u001b[0m 23s/step - accuracy: 0.8025 - loss: 0.5260 - val_accuracy: 0.7750 - val_loss: 0.4606 - learning_rate: 5.0000e-05\n",
            "Epoch 20/100\n",
            "\u001b[1m10/10\u001b[0m \u001b[32m━━━━━━━━━━━━━━━━━━━━\u001b[0m\u001b[37m\u001b[0m \u001b[1m231s\u001b[0m 23s/step - accuracy: 0.8010 - loss: 0.4908 - val_accuracy: 0.7750 - val_loss: 0.5043 - learning_rate: 5.0000e-05\n",
            "Epoch 21/100\n",
            "\u001b[1m10/10\u001b[0m \u001b[32m━━━━━━━━━━━━━━━━━━━━\u001b[0m\u001b[37m\u001b[0m \u001b[1m229s\u001b[0m 23s/step - accuracy: 0.8287 - loss: 0.4110 - val_accuracy: 0.8000 - val_loss: 0.4279 - learning_rate: 5.0000e-05\n",
            "Epoch 22/100\n",
            "\u001b[1m10/10\u001b[0m \u001b[32m━━━━━━━━━━━━━━━━━━━━\u001b[0m\u001b[37m\u001b[0m \u001b[1m228s\u001b[0m 23s/step - accuracy: 0.8109 - loss: 0.4972 - val_accuracy: 0.8750 - val_loss: 0.3869 - learning_rate: 5.0000e-05\n",
            "Epoch 23/100\n",
            "\u001b[1m10/10\u001b[0m \u001b[32m━━━━━━━━━━━━━━━━━━━━\u001b[0m\u001b[37m\u001b[0m \u001b[1m230s\u001b[0m 23s/step - accuracy: 0.7907 - loss: 0.4942 - val_accuracy: 0.8750 - val_loss: 0.3867 - learning_rate: 5.0000e-05\n",
            "Epoch 24/100\n",
            "\u001b[1m10/10\u001b[0m \u001b[32m━━━━━━━━━━━━━━━━━━━━\u001b[0m\u001b[37m\u001b[0m \u001b[1m260s\u001b[0m 23s/step - accuracy: 0.8483 - loss: 0.4376 - val_accuracy: 0.9125 - val_loss: 0.3749 - learning_rate: 5.0000e-05\n",
            "Epoch 25/100\n",
            "\u001b[1m10/10\u001b[0m \u001b[32m━━━━━━━━━━━━━━━━━━━━\u001b[0m\u001b[37m\u001b[0m \u001b[1m231s\u001b[0m 23s/step - accuracy: 0.8564 - loss: 0.4181 - val_accuracy: 0.9000 - val_loss: 0.3729 - learning_rate: 5.0000e-05\n",
            "Epoch 26/100\n",
            "\u001b[1m10/10\u001b[0m \u001b[32m━━━━━━━━━━━━━━━━━━━━\u001b[0m\u001b[37m\u001b[0m \u001b[1m231s\u001b[0m 23s/step - accuracy: 0.8222 - loss: 0.4557 - val_accuracy: 0.9000 - val_loss: 0.4212 - learning_rate: 5.0000e-05\n",
            "Epoch 27/100\n",
            "\u001b[1m10/10\u001b[0m \u001b[32m━━━━━━━━━━━━━━━━━━━━\u001b[0m\u001b[37m\u001b[0m \u001b[1m260s\u001b[0m 23s/step - accuracy: 0.8267 - loss: 0.4657 - val_accuracy: 0.8875 - val_loss: 0.4926 - learning_rate: 5.0000e-05\n",
            "Epoch 28/100\n",
            "\u001b[1m10/10\u001b[0m \u001b[32m━━━━━━━━━━━━━━━━━━━━\u001b[0m\u001b[37m\u001b[0m \u001b[1m266s\u001b[0m 27s/step - accuracy: 0.8392 - loss: 0.3683 - val_accuracy: 0.9000 - val_loss: 0.4743 - learning_rate: 5.0000e-05\n",
            "Epoch 29/100\n",
            "\u001b[1m10/10\u001b[0m \u001b[32m━━━━━━━━━━━━━━━━━━━━\u001b[0m\u001b[37m\u001b[0m \u001b[1m286s\u001b[0m 23s/step - accuracy: 0.8191 - loss: 0.4317 - val_accuracy: 0.9125 - val_loss: 0.4167 - learning_rate: 5.0000e-05\n",
            "Epoch 30/100\n",
            "\u001b[1m10/10\u001b[0m \u001b[32m━━━━━━━━━━━━━━━━━━━━\u001b[0m\u001b[37m\u001b[0m \u001b[1m227s\u001b[0m 23s/step - accuracy: 0.8827 - loss: 0.3345 - val_accuracy: 0.9000 - val_loss: 0.4012 - learning_rate: 5.0000e-05\n",
            "Epoch 31/100\n",
            "\u001b[1m10/10\u001b[0m \u001b[32m━━━━━━━━━━━━━━━━━━━━\u001b[0m\u001b[37m\u001b[0m \u001b[1m230s\u001b[0m 23s/step - accuracy: 0.8332 - loss: 0.4159 - val_accuracy: 0.8875 - val_loss: 0.4137 - learning_rate: 2.5000e-05\n",
            "Epoch 32/100\n",
            "\u001b[1m10/10\u001b[0m \u001b[32m━━━━━━━━━━━━━━━━━━━━\u001b[0m\u001b[37m\u001b[0m \u001b[1m230s\u001b[0m 23s/step - accuracy: 0.8201 - loss: 0.4711 - val_accuracy: 0.8875 - val_loss: 0.4180 - learning_rate: 2.5000e-05\n",
            "Epoch 33/100\n",
            "\u001b[1m10/10\u001b[0m \u001b[32m━━━━━━━━━━━━━━━━━━━━\u001b[0m\u001b[37m\u001b[0m \u001b[1m227s\u001b[0m 23s/step - accuracy: 0.8276 - loss: 0.4433 - val_accuracy: 0.8875 - val_loss: 0.4122 - learning_rate: 2.5000e-05\n",
            "Epoch 34/100\n",
            "\u001b[1m10/10\u001b[0m \u001b[32m━━━━━━━━━━━━━━━━━━━━\u001b[0m\u001b[37m\u001b[0m \u001b[1m265s\u001b[0m 23s/step - accuracy: 0.8448 - loss: 0.3872 - val_accuracy: 0.9000 - val_loss: 0.4090 - learning_rate: 2.5000e-05\n",
            "Epoch 35/100\n",
            "\u001b[1m10/10\u001b[0m \u001b[32m━━━━━━━━━━━━━━━━━━━━\u001b[0m\u001b[37m\u001b[0m \u001b[1m263s\u001b[0m 23s/step - accuracy: 0.8920 - loss: 0.3133 - val_accuracy: 0.9000 - val_loss: 0.4146 - learning_rate: 2.5000e-05\n",
            "\u001b[1m3/3\u001b[0m \u001b[32m━━━━━━━━━━━━━━━━━━━━\u001b[0m\u001b[37m\u001b[0m \u001b[1m45s\u001b[0m 14s/step - accuracy: 0.9031 - loss: 0.3425\n",
            "CNN Model Accuracy: 0.8999999761581421\n"
          ]
        },
        {
          "output_type": "display_data",
          "data": {
            "text/plain": [
              "<Figure size 640x480 with 1 Axes>"
            ],
            "image/png": "[encoded data removed]"
          },
          "metadata": {}
        },
        {
          "output_type": "stream",
          "name": "stderr",
          "text": [
            "WARNING:absl:You are saving your model as an HDF5 file via `model.save()` or `keras.saving.save_model(model)`. This file format is considered legacy. We recommend using instead the native Keras format, e.g. `model.save('my_model.keras')` or `keras.saving.save_model(model, 'my_model.keras')`. \n"
          ]
        }
      ]
    },
    {
      "cell_type": "code",
      "source": [
        "from tensorflow.keras.models import load_model\n",
        "from tensorflow.keras.preprocessing.image import load_img, img_to_array\n",
        "import numpy as np\n",
        "from google.colab import drive\n",
        "\n",
        "# Google Drive মাউন্ট করা\n",
        "drive.mount('/content/drive')\n",
        "\n",
        "# মডেল লোড করার পাথ\n",
        "model_path = \"/content/drive/My Drive/vehicle_classification_cnn_vgg16.h5\"\n",
        "model = load_model(model_path)\n",
        "print(\"Model loaded successfully!\")\n"
      ],
      "metadata": {
        "colab": {
          "base_uri": "https://localhost:8080/"
        },
        "id": "-TqxyD3ZtyR9",
        "outputId": "ca92f3c4-e2c3-4a8a-993c-436255f84dd0"
      },
      "execution_count": 23,
      "outputs": [
        {
          "output_type": "stream",
          "name": "stdout",
          "text": [
            "Drive already mounted at /content/drive; to attempt to forcibly remount, call drive.mount(\"/content/drive\", force_remount=True).\n"
          ]
        },
        {
          "output_type": "stream",
          "name": "stderr",
          "text": [
            "WARNING:absl:Compiled the loaded model, but the compiled metrics have yet to be built. `model.compile_metrics` will be empty until you train or evaluate the model.\n"
          ]
        },
        {
          "output_type": "stream",
          "name": "stdout",
          "text": [
            "Model loaded successfully!\n"
          ]
        }
      ]
    },
    {
      "cell_type": "code",
      "source": [
        "# টেস্ট ইমেজ পাথ\n",
        "image_path = \"/content/drive/My Drive/test_image.jpg\"  # Replace with your image path\n",
        "\n",
        "# ইমেজ লোড এবং প্রি-প্রসেসিং\n",
        "img_size = 224  # VGG16 মডেলের ইনপুট সাইজ\n",
        "image = load_img(image_path, target_size=(img_size, img_size))\n",
        "image_array = img_to_array(image) / 255.0  # Normalize the image\n",
        "image_array = np.expand_dims(image_array, axis=0)  # Add batch dimension\n",
        "print(\"Image loaded and preprocessed successfully!\")\n"
      ],
      "metadata": {
        "colab": {
          "base_uri": "https://localhost:8080/"
        },
        "id": "6bOGun6mtyTM",
        "outputId": "6754175e-0bc4-42b1-b644-777268ca1b5e"
      },
      "execution_count": 24,
      "outputs": [
        {
          "output_type": "stream",
          "name": "stdout",
          "text": [
            "Image loaded and preprocessed successfully!\n"
          ]
        }
      ]
    },
    {
      "cell_type": "code",
      "source": [
        "# ক্লাস লেবেল\n",
        "classes = [\"Bus\", \"Car\", \"Motorcycle\", \"Truck\"]\n",
        "\n",
        "# প্রেডিকশন\n",
        "predictions = model.predict(image_array)\n",
        "predicted_class = np.argmax(predictions, axis=1)[0]\n",
        "\n",
        "# আউটপুট\n",
        "print(f\"Predicted class: {classes[predicted_class]}\")\n"
      ],
      "metadata": {
        "colab": {
          "base_uri": "https://localhost:8080/"
        },
        "id": "NWnPbcg1t8Ts",
        "outputId": "b8a9160d-7d0c-4456-bb68-0b8023dec177"
      },
      "execution_count": 25,
      "outputs": [
        {
          "output_type": "stream",
          "name": "stdout",
          "text": [
            "\u001b[1m1/1\u001b[0m \u001b[32m━━━━━━━━━━━━━━━━━━━━\u001b[0m\u001b[37m\u001b[0m \u001b[1m1s\u001b[0m 664ms/step\n",
            "Predicted class: Car\n"
          ]
        }
      ]
    },
    {
      "cell_type": "code",
      "source": [
        "# Step 3: নতুন ইমেজের পাথ উল্লেখ করা\n",
        "new_image_path = \"/content/drive/My Drive/new_test_image.jpg\"  # Replace with your new image path\n",
        "\n",
        "# নতুন ইমেজ লোড এবং প্রি-প্রসেসিং\n",
        "new_image = load_img(new_image_path, target_size=(img_size, img_size))\n",
        "new_image_array = img_to_array(new_image) / 255.0\n",
        "new_image_array = np.expand_dims(new_image_array, axis=0)\n",
        "\n",
        "# নতুন প্রেডিকশন\n",
        "new_predictions = model.predict(new_image_array)\n",
        "new_predicted_class = np.argmax(new_predictions, axis=1)[0]\n",
        "\n",
        "# আউটপুট\n",
        "print(f\"Predicted class for new image: {classes[new_predicted_class]}\")\n"
      ],
      "metadata": {
        "colab": {
          "base_uri": "https://localhost:8080/"
        },
        "id": "kj13HJgKvpXN",
        "outputId": "99de5b95-a630-4c35-f3b3-be6aa2de59d6"
      },
      "execution_count": 26,
      "outputs": [
        {
          "output_type": "stream",
          "name": "stdout",
          "text": [
            "\u001b[1m1/1\u001b[0m \u001b[32m━━━━━━━━━━━━━━━━━━━━\u001b[0m\u001b[37m\u001b[0m \u001b[1m0s\u001b[0m 488ms/step\n",
            "Predicted class for new image: Bus\n"
          ]
        }
      ]
    }
  ]
}